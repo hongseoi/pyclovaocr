{
 "cells": [
  {
   "cell_type": "code",
   "execution_count": 15,
   "metadata": {},
   "outputs": [],
   "source": [
    "from pyclovaocr import ClovaOCR\n",
    "\n",
    "ocr = ClovaOCR()"
   ]
  },
  {
   "cell_type": "code",
   "execution_count": 19,
   "metadata": {},
   "outputs": [],
   "source": [
    "\n",
    "result = ocr.run_ocr(\n",
    "    image_path='pyclovaocr/images/receipt02.jpg',\n",
    "    language_code = 'ko',\n",
    "    ocr_mode = 'receipt'\n",
    "\n",
    ")"
   ]
  },
  {
   "cell_type": "code",
   "execution_count": 22,
   "metadata": {},
   "outputs": [
    {
     "name": "stdout",
     "output_type": "stream",
     "text": [
      "{'result': {'storeInfo': {'name': {'text': 'STARBUCKS', 'formatted': {'value': 'STARBUCKS'}, 'boundingBoxes': [[[181, 77], [784, 77], [784, 154], [181, 154]]]}, 'subName': {'text': '영등포구청역점', 'formatted': {'value': '영등포구청역점'}, 'boundingBoxes': [[[52, 300], [242, 300], [242, 336], [52, 336]]]}, 'bizNum': {'text': '201-81-21515', 'formatted': {'value': '201-81-21515'}, 'boundingBoxes': [[[715, 375], [930, 375], [930, 405], [715, 405]]]}, 'address': [{'text': '서울 영등포구 국회대로 558', 'formatted': {'value': '서울 영등포구 국회대로 558'}, 'boundingBoxes': [[[50, 336], [111, 336], [111, 373], [50, 373]], [[111, 336], [223, 336], [223, 371], [111, 371]], [[225, 336], [336, 336], [336, 371], [225, 371]], [[338, 338], [400, 338], [400, 371], [338, 371]]]}]}, 'paymentInfo': {'date': {'text': '2022-09-26', 'formatted': {'year': '2022', 'month': '09', 'day': '26'}, 'boundingBoxes': [[[619, 411], [849, 411], [849, 442], [619, 442]]]}, 'time': {'text': '11: 26: 31', 'formatted': {'hour': '11', 'minute': '26', 'second': '31'}, 'boundingBoxes': [[[619, 411], [849, 411], [849, 442], [619, 442]], [[847, 413], [895, 413], [895, 442], [847, 442]], [[892, 413], [928, 413], [928, 442], [892, 442]]]}, 'cardInfo': {'company': {'text': '스타벅스카드', 'formatted': {'value': '스타벅스카드'}, 'boundingBoxes': [[[50, 1241], [281, 1241], [281, 1289], [50, 1289]]]}, 'number': {'text': '61997317****554*', 'formatted': {'value': '61997317****554*'}, 'boundingBoxes': [[[561, 1245], [928, 1245], [928, 1285], [561, 1285]]]}}, 'confirmNum': {'text': '304799', 'boundingBoxes': [[[236, 1284], [392, 1284], [392, 1330], [236, 1330]]]}}, 'subResults': [{'items': [{'name': {'text': 'G)콜드브루', 'formatted': {'value': 'G)콜드브루'}, 'boundingBoxes': [[[50, 694], [244, 694], [244, 742], [50, 742]]]}, 'count': {'text': '1', 'formatted': {'value': '1'}, 'boundingBoxes': [[[719, 701], [742, 701], [742, 730], [719, 730]]]}, 'priceInfo': {'price': {'text': '5,400', 'formatted': {'value': '5400'}, 'boundingBoxes': [[[842, 696], [938, 696], [938, 742], [842, 742]]]}, 'unitPrice': {'text': '5,400', 'formatted': {'value': '5400'}, 'boundingBoxes': [[[586, 694], [682, 694], [682, 742], [586, 742]]]}}}]}], 'totalPrice': {'price': {'text': '5,400', 'formatted': {'value': '5400'}, 'boundingBoxes': [[[757, 1005], [934, 1005], [934, 1068], [757, 1068]]]}}}, 'meta': {'imageSize': {'width': 981, 'height': 2152}}}\n"
     ]
    }
   ],
   "source": [
    "print(result)"
   ]
  },
  {
   "cell_type": "code",
   "execution_count": 23,
   "metadata": {},
   "outputs": [
    {
     "ename": "ModuleNotFoundError",
     "evalue": "No module named 'matplotlib'",
     "output_type": "error",
     "traceback": [
      "\u001b[1;31m---------------------------------------------------------------------------\u001b[0m",
      "\u001b[1;31mModuleNotFoundError\u001b[0m                       Traceback (most recent call last)",
      "Cell \u001b[1;32mIn [23], line 1\u001b[0m\n\u001b[1;32m----> 1\u001b[0m \u001b[39mimport\u001b[39;00m \u001b[39mmatplotlib\u001b[39;00m\u001b[39m.\u001b[39;00m\u001b[39mpyplot\u001b[39;00m \u001b[39mas\u001b[39;00m \u001b[39mplt\u001b[39;00m\n",
      "\u001b[1;31mModuleNotFoundError\u001b[0m: No module named 'matplotlib'"
     ]
    }
   ],
   "source": []
  }
 ],
 "metadata": {
  "kernelspec": {
   "display_name": "Python 3",
   "language": "python",
   "name": "python3"
  },
  "language_info": {
   "codemirror_mode": {
    "name": "ipython",
    "version": 3
   },
   "file_extension": ".py",
   "mimetype": "text/x-python",
   "name": "python",
   "nbconvert_exporter": "python",
   "pygments_lexer": "ipython3",
   "version": "3.9.13"
  },
  "orig_nbformat": 4,
  "vscode": {
   "interpreter": {
    "hash": "2a271c975db27fcc5bd6750a79133d9113f00bd235921e6e5adc9df326ae1af1"
   }
  }
 },
 "nbformat": 4,
 "nbformat_minor": 2
}
